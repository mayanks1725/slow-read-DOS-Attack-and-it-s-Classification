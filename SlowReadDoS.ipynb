{
 "cells": [
  {
   "cell_type": "code",
   "execution_count": 3,
   "metadata": {},
   "outputs": [],
   "source": [
    "import pandas as pd\n",
    "import numpy as np"
   ]
  },
  {
   "cell_type": "code",
   "execution_count": 4,
   "metadata": {},
   "outputs": [],
   "source": [
    "df= pd.read_csv('C:/Users/Mayank Srivastava/Desktop/Minor/dataset.csv')"
   ]
  },
  {
   "cell_type": "code",
   "execution_count": 5,
   "metadata": {},
   "outputs": [
    {
     "data": {
      "text/html": [
       "<div>\n",
       "<style scoped>\n",
       "    .dataframe tbody tr th:only-of-type {\n",
       "        vertical-align: middle;\n",
       "    }\n",
       "\n",
       "    .dataframe tbody tr th {\n",
       "        vertical-align: top;\n",
       "    }\n",
       "\n",
       "    .dataframe thead th {\n",
       "        text-align: right;\n",
       "    }\n",
       "</style>\n",
       "<table border=\"1\" class=\"dataframe\">\n",
       "  <thead>\n",
       "    <tr style=\"text-align: right;\">\n",
       "      <th></th>\n",
       "      <th>Unnamed: 0</th>\n",
       "      <th>Unnamed: 0.1</th>\n",
       "      <th>No.</th>\n",
       "      <th>Time</th>\n",
       "      <th>Source</th>\n",
       "      <th>Destination</th>\n",
       "      <th>Protocol</th>\n",
       "      <th>Length</th>\n",
       "      <th>Info</th>\n",
       "      <th>Result</th>\n",
       "      <th>Src_Port</th>\n",
       "      <th>Dest_Port</th>\n",
       "      <th>SourcePort</th>\n",
       "      <th>DestinationPort</th>\n",
       "      <th>Source_id</th>\n",
       "      <th>Destination_id</th>\n",
       "      <th>Destination_Port</th>\n",
       "      <th>Source_Port</th>\n",
       "    </tr>\n",
       "  </thead>\n",
       "  <tbody>\n",
       "    <tr>\n",
       "      <td>0</td>\n",
       "      <td>0</td>\n",
       "      <td>0</td>\n",
       "      <td>1</td>\n",
       "      <td>0.000000</td>\n",
       "      <td>192.168.222.141</td>\n",
       "      <td>youtube-ui.l.google.com</td>\n",
       "      <td>TLSv1.2</td>\n",
       "      <td>708</td>\n",
       "      <td>Application Data</td>\n",
       "      <td>0</td>\n",
       "      <td>46978</td>\n",
       "      <td>https</td>\n",
       "      <td>46978.0</td>\n",
       "      <td>443.0</td>\n",
       "      <td>1</td>\n",
       "      <td>48</td>\n",
       "      <td>6</td>\n",
       "      <td>2440</td>\n",
       "    </tr>\n",
       "    <tr>\n",
       "      <td>1</td>\n",
       "      <td>1</td>\n",
       "      <td>1</td>\n",
       "      <td>2</td>\n",
       "      <td>0.000259</td>\n",
       "      <td>youtube-ui.l.google.com</td>\n",
       "      <td>192.168.222.141</td>\n",
       "      <td>TCP</td>\n",
       "      <td>60</td>\n",
       "      <td>https &gt; 46978 [ACK] Seq=1 Ack=655 Win=64240 Len=0</td>\n",
       "      <td>0</td>\n",
       "      <td>https</td>\n",
       "      <td>46978</td>\n",
       "      <td>443.0</td>\n",
       "      <td>46978.0</td>\n",
       "      <td>31</td>\n",
       "      <td>4</td>\n",
       "      <td>2439</td>\n",
       "      <td>5</td>\n",
       "    </tr>\n",
       "    <tr>\n",
       "      <td>2</td>\n",
       "      <td>2</td>\n",
       "      <td>2</td>\n",
       "      <td>3</td>\n",
       "      <td>0.330808</td>\n",
       "      <td>youtube-ui.l.google.com</td>\n",
       "      <td>192.168.222.141</td>\n",
       "      <td>TLSv1.2</td>\n",
       "      <td>337</td>\n",
       "      <td>Application Data, Application Data, Applicatio...</td>\n",
       "      <td>0</td>\n",
       "      <td>https</td>\n",
       "      <td>46978</td>\n",
       "      <td>443.0</td>\n",
       "      <td>46978.0</td>\n",
       "      <td>31</td>\n",
       "      <td>4</td>\n",
       "      <td>2439</td>\n",
       "      <td>5</td>\n",
       "    </tr>\n",
       "    <tr>\n",
       "      <td>3</td>\n",
       "      <td>3</td>\n",
       "      <td>3</td>\n",
       "      <td>4</td>\n",
       "      <td>0.340927</td>\n",
       "      <td>192.168.222.141</td>\n",
       "      <td>youtube-ui.l.google.com</td>\n",
       "      <td>TLSv1.2</td>\n",
       "      <td>93</td>\n",
       "      <td>Application Data</td>\n",
       "      <td>0</td>\n",
       "      <td>46978</td>\n",
       "      <td>https</td>\n",
       "      <td>46978.0</td>\n",
       "      <td>443.0</td>\n",
       "      <td>1</td>\n",
       "      <td>48</td>\n",
       "      <td>6</td>\n",
       "      <td>2440</td>\n",
       "    </tr>\n",
       "    <tr>\n",
       "      <td>4</td>\n",
       "      <td>4</td>\n",
       "      <td>4</td>\n",
       "      <td>5</td>\n",
       "      <td>0.341198</td>\n",
       "      <td>youtube-ui.l.google.com</td>\n",
       "      <td>192.168.222.141</td>\n",
       "      <td>TCP</td>\n",
       "      <td>60</td>\n",
       "      <td>https &gt; 46978 [ACK] Seq=284 Ack=694 Win=64240 ...</td>\n",
       "      <td>0</td>\n",
       "      <td>https</td>\n",
       "      <td>46978</td>\n",
       "      <td>443.0</td>\n",
       "      <td>46978.0</td>\n",
       "      <td>31</td>\n",
       "      <td>4</td>\n",
       "      <td>2439</td>\n",
       "      <td>5</td>\n",
       "    </tr>\n",
       "  </tbody>\n",
       "</table>\n",
       "</div>"
      ],
      "text/plain": [
       "   Unnamed: 0  Unnamed: 0.1  No.      Time                   Source  \\\n",
       "0           0             0    1  0.000000          192.168.222.141   \n",
       "1           1             1    2  0.000259  youtube-ui.l.google.com   \n",
       "2           2             2    3  0.330808  youtube-ui.l.google.com   \n",
       "3           3             3    4  0.340927          192.168.222.141   \n",
       "4           4             4    5  0.341198  youtube-ui.l.google.com   \n",
       "\n",
       "               Destination Protocol  Length  \\\n",
       "0  youtube-ui.l.google.com  TLSv1.2     708   \n",
       "1          192.168.222.141      TCP      60   \n",
       "2          192.168.222.141  TLSv1.2     337   \n",
       "3  youtube-ui.l.google.com  TLSv1.2      93   \n",
       "4          192.168.222.141      TCP      60   \n",
       "\n",
       "                                                Info  Result Src_Port  \\\n",
       "0                                   Application Data       0    46978   \n",
       "1  https > 46978 [ACK] Seq=1 Ack=655 Win=64240 Len=0       0    https   \n",
       "2  Application Data, Application Data, Applicatio...       0    https   \n",
       "3                                   Application Data       0    46978   \n",
       "4  https > 46978 [ACK] Seq=284 Ack=694 Win=64240 ...       0    https   \n",
       "\n",
       "  Dest_Port  SourcePort  DestinationPort  Source_id  Destination_id  \\\n",
       "0     https     46978.0            443.0          1              48   \n",
       "1     46978       443.0          46978.0         31               4   \n",
       "2     46978       443.0          46978.0         31               4   \n",
       "3     https     46978.0            443.0          1              48   \n",
       "4     46978       443.0          46978.0         31               4   \n",
       "\n",
       "   Destination_Port  Source_Port  \n",
       "0                 6         2440  \n",
       "1              2439            5  \n",
       "2              2439            5  \n",
       "3                 6         2440  \n",
       "4              2439            5  "
      ]
     },
     "execution_count": 5,
     "metadata": {},
     "output_type": "execute_result"
    }
   ],
   "source": [
    "df.head()"
   ]
  },
  {
   "cell_type": "code",
   "execution_count": 6,
   "metadata": {},
   "outputs": [],
   "source": [
    "df['Source_id'] = df.groupby(['Source']).ngroup()\n",
    "df['Destination_id'] = df.groupby(['Destination']).ngroup()\n",
    "df['Destination_Port'] = df.groupby(['DestinationPort']).ngroup()\n",
    "df['Source_Port'] = df.groupby(['SourcePort']).ngroup()"
   ]
  },
  {
   "cell_type": "code",
   "execution_count": 7,
   "metadata": {},
   "outputs": [
    {
     "data": {
      "text/html": [
       "<div>\n",
       "<style scoped>\n",
       "    .dataframe tbody tr th:only-of-type {\n",
       "        vertical-align: middle;\n",
       "    }\n",
       "\n",
       "    .dataframe tbody tr th {\n",
       "        vertical-align: top;\n",
       "    }\n",
       "\n",
       "    .dataframe thead th {\n",
       "        text-align: right;\n",
       "    }\n",
       "</style>\n",
       "<table border=\"1\" class=\"dataframe\">\n",
       "  <thead>\n",
       "    <tr style=\"text-align: right;\">\n",
       "      <th></th>\n",
       "      <th>Unnamed: 0</th>\n",
       "      <th>Unnamed: 0.1</th>\n",
       "      <th>No.</th>\n",
       "      <th>Time</th>\n",
       "      <th>Source</th>\n",
       "      <th>Destination</th>\n",
       "      <th>Protocol</th>\n",
       "      <th>Length</th>\n",
       "      <th>Info</th>\n",
       "      <th>Result</th>\n",
       "      <th>Src_Port</th>\n",
       "      <th>Dest_Port</th>\n",
       "      <th>SourcePort</th>\n",
       "      <th>DestinationPort</th>\n",
       "      <th>Source_id</th>\n",
       "      <th>Destination_id</th>\n",
       "      <th>Destination_Port</th>\n",
       "      <th>Source_Port</th>\n",
       "    </tr>\n",
       "  </thead>\n",
       "  <tbody>\n",
       "    <tr>\n",
       "      <td>0</td>\n",
       "      <td>0</td>\n",
       "      <td>0</td>\n",
       "      <td>1</td>\n",
       "      <td>0.000000</td>\n",
       "      <td>192.168.222.141</td>\n",
       "      <td>youtube-ui.l.google.com</td>\n",
       "      <td>TLSv1.2</td>\n",
       "      <td>708</td>\n",
       "      <td>Application Data</td>\n",
       "      <td>0</td>\n",
       "      <td>46978</td>\n",
       "      <td>https</td>\n",
       "      <td>46978.0</td>\n",
       "      <td>443.0</td>\n",
       "      <td>1</td>\n",
       "      <td>48</td>\n",
       "      <td>6</td>\n",
       "      <td>2440</td>\n",
       "    </tr>\n",
       "    <tr>\n",
       "      <td>1</td>\n",
       "      <td>1</td>\n",
       "      <td>1</td>\n",
       "      <td>2</td>\n",
       "      <td>0.000259</td>\n",
       "      <td>youtube-ui.l.google.com</td>\n",
       "      <td>192.168.222.141</td>\n",
       "      <td>TCP</td>\n",
       "      <td>60</td>\n",
       "      <td>https &gt; 46978 [ACK] Seq=1 Ack=655 Win=64240 Len=0</td>\n",
       "      <td>0</td>\n",
       "      <td>https</td>\n",
       "      <td>46978</td>\n",
       "      <td>443.0</td>\n",
       "      <td>46978.0</td>\n",
       "      <td>31</td>\n",
       "      <td>4</td>\n",
       "      <td>2439</td>\n",
       "      <td>5</td>\n",
       "    </tr>\n",
       "    <tr>\n",
       "      <td>2</td>\n",
       "      <td>2</td>\n",
       "      <td>2</td>\n",
       "      <td>3</td>\n",
       "      <td>0.330808</td>\n",
       "      <td>youtube-ui.l.google.com</td>\n",
       "      <td>192.168.222.141</td>\n",
       "      <td>TLSv1.2</td>\n",
       "      <td>337</td>\n",
       "      <td>Application Data, Application Data, Applicatio...</td>\n",
       "      <td>0</td>\n",
       "      <td>https</td>\n",
       "      <td>46978</td>\n",
       "      <td>443.0</td>\n",
       "      <td>46978.0</td>\n",
       "      <td>31</td>\n",
       "      <td>4</td>\n",
       "      <td>2439</td>\n",
       "      <td>5</td>\n",
       "    </tr>\n",
       "    <tr>\n",
       "      <td>3</td>\n",
       "      <td>3</td>\n",
       "      <td>3</td>\n",
       "      <td>4</td>\n",
       "      <td>0.340927</td>\n",
       "      <td>192.168.222.141</td>\n",
       "      <td>youtube-ui.l.google.com</td>\n",
       "      <td>TLSv1.2</td>\n",
       "      <td>93</td>\n",
       "      <td>Application Data</td>\n",
       "      <td>0</td>\n",
       "      <td>46978</td>\n",
       "      <td>https</td>\n",
       "      <td>46978.0</td>\n",
       "      <td>443.0</td>\n",
       "      <td>1</td>\n",
       "      <td>48</td>\n",
       "      <td>6</td>\n",
       "      <td>2440</td>\n",
       "    </tr>\n",
       "    <tr>\n",
       "      <td>4</td>\n",
       "      <td>4</td>\n",
       "      <td>4</td>\n",
       "      <td>5</td>\n",
       "      <td>0.341198</td>\n",
       "      <td>youtube-ui.l.google.com</td>\n",
       "      <td>192.168.222.141</td>\n",
       "      <td>TCP</td>\n",
       "      <td>60</td>\n",
       "      <td>https &gt; 46978 [ACK] Seq=284 Ack=694 Win=64240 ...</td>\n",
       "      <td>0</td>\n",
       "      <td>https</td>\n",
       "      <td>46978</td>\n",
       "      <td>443.0</td>\n",
       "      <td>46978.0</td>\n",
       "      <td>31</td>\n",
       "      <td>4</td>\n",
       "      <td>2439</td>\n",
       "      <td>5</td>\n",
       "    </tr>\n",
       "  </tbody>\n",
       "</table>\n",
       "</div>"
      ],
      "text/plain": [
       "   Unnamed: 0  Unnamed: 0.1  No.      Time                   Source  \\\n",
       "0           0             0    1  0.000000          192.168.222.141   \n",
       "1           1             1    2  0.000259  youtube-ui.l.google.com   \n",
       "2           2             2    3  0.330808  youtube-ui.l.google.com   \n",
       "3           3             3    4  0.340927          192.168.222.141   \n",
       "4           4             4    5  0.341198  youtube-ui.l.google.com   \n",
       "\n",
       "               Destination Protocol  Length  \\\n",
       "0  youtube-ui.l.google.com  TLSv1.2     708   \n",
       "1          192.168.222.141      TCP      60   \n",
       "2          192.168.222.141  TLSv1.2     337   \n",
       "3  youtube-ui.l.google.com  TLSv1.2      93   \n",
       "4          192.168.222.141      TCP      60   \n",
       "\n",
       "                                                Info  Result Src_Port  \\\n",
       "0                                   Application Data       0    46978   \n",
       "1  https > 46978 [ACK] Seq=1 Ack=655 Win=64240 Len=0       0    https   \n",
       "2  Application Data, Application Data, Applicatio...       0    https   \n",
       "3                                   Application Data       0    46978   \n",
       "4  https > 46978 [ACK] Seq=284 Ack=694 Win=64240 ...       0    https   \n",
       "\n",
       "  Dest_Port  SourcePort  DestinationPort  Source_id  Destination_id  \\\n",
       "0     https     46978.0            443.0          1              48   \n",
       "1     46978       443.0          46978.0         31               4   \n",
       "2     46978       443.0          46978.0         31               4   \n",
       "3     https     46978.0            443.0          1              48   \n",
       "4     46978       443.0          46978.0         31               4   \n",
       "\n",
       "   Destination_Port  Source_Port  \n",
       "0                 6         2440  \n",
       "1              2439            5  \n",
       "2              2439            5  \n",
       "3                 6         2440  \n",
       "4              2439            5  "
      ]
     },
     "execution_count": 7,
     "metadata": {},
     "output_type": "execute_result"
    }
   ],
   "source": [
    "df.head()"
   ]
  },
  {
   "cell_type": "code",
   "execution_count": 8,
   "metadata": {},
   "outputs": [
    {
     "data": {
      "text/plain": [
       "0        2440\n",
       "1           5\n",
       "2           5\n",
       "3        2440\n",
       "4           5\n",
       "         ... \n",
       "96446       3\n",
       "96447    3258\n",
       "96448    3258\n",
       "96449       3\n",
       "96450    3258\n",
       "Name: Source_Port, Length: 96451, dtype: int64"
      ]
     },
     "execution_count": 8,
     "metadata": {},
     "output_type": "execute_result"
    }
   ],
   "source": [
    "df[df['SourcePort'] < 0] = 0\n",
    "df[df['DestinationPort'] < 0] = 0\n",
    "df['Source_Port'].fillna(0)"
   ]
  },
  {
   "cell_type": "code",
   "execution_count": 9,
   "metadata": {},
   "outputs": [],
   "source": [
    "df.to_csv('C:/Users/Mayank Srivastava/Desktop/Minor/dataset.csv')"
   ]
  },
  {
   "cell_type": "code",
   "execution_count": 10,
   "metadata": {},
   "outputs": [],
   "source": [
    "features= ['Source_id', 'Destination_id','Source_Port','Destination_Port']\n",
    "X= df[features]"
   ]
  },
  {
   "cell_type": "code",
   "execution_count": 11,
   "metadata": {},
   "outputs": [],
   "source": [
    "Y=df.Result"
   ]
  },
  {
   "cell_type": "code",
   "execution_count": 12,
   "metadata": {},
   "outputs": [
    {
     "data": {
      "text/html": [
       "<div>\n",
       "<style scoped>\n",
       "    .dataframe tbody tr th:only-of-type {\n",
       "        vertical-align: middle;\n",
       "    }\n",
       "\n",
       "    .dataframe tbody tr th {\n",
       "        vertical-align: top;\n",
       "    }\n",
       "\n",
       "    .dataframe thead th {\n",
       "        text-align: right;\n",
       "    }\n",
       "</style>\n",
       "<table border=\"1\" class=\"dataframe\">\n",
       "  <thead>\n",
       "    <tr style=\"text-align: right;\">\n",
       "      <th></th>\n",
       "      <th>Source_id</th>\n",
       "      <th>Destination_id</th>\n",
       "      <th>Source_Port</th>\n",
       "      <th>Destination_Port</th>\n",
       "    </tr>\n",
       "  </thead>\n",
       "  <tbody>\n",
       "    <tr>\n",
       "      <td>0</td>\n",
       "      <td>1</td>\n",
       "      <td>48</td>\n",
       "      <td>2440</td>\n",
       "      <td>6</td>\n",
       "    </tr>\n",
       "    <tr>\n",
       "      <td>1</td>\n",
       "      <td>31</td>\n",
       "      <td>4</td>\n",
       "      <td>5</td>\n",
       "      <td>2439</td>\n",
       "    </tr>\n",
       "    <tr>\n",
       "      <td>2</td>\n",
       "      <td>31</td>\n",
       "      <td>4</td>\n",
       "      <td>5</td>\n",
       "      <td>2439</td>\n",
       "    </tr>\n",
       "    <tr>\n",
       "      <td>3</td>\n",
       "      <td>1</td>\n",
       "      <td>48</td>\n",
       "      <td>2440</td>\n",
       "      <td>6</td>\n",
       "    </tr>\n",
       "    <tr>\n",
       "      <td>4</td>\n",
       "      <td>31</td>\n",
       "      <td>4</td>\n",
       "      <td>5</td>\n",
       "      <td>2439</td>\n",
       "    </tr>\n",
       "  </tbody>\n",
       "</table>\n",
       "</div>"
      ],
      "text/plain": [
       "   Source_id  Destination_id  Source_Port  Destination_Port\n",
       "0          1              48         2440                 6\n",
       "1         31               4            5              2439\n",
       "2         31               4            5              2439\n",
       "3          1              48         2440                 6\n",
       "4         31               4            5              2439"
      ]
     },
     "execution_count": 12,
     "metadata": {},
     "output_type": "execute_result"
    }
   ],
   "source": [
    "X.head()"
   ]
  },
  {
   "cell_type": "code",
   "execution_count": null,
   "metadata": {
    "scrolled": true
   },
   "outputs": [],
   "source": []
  },
  {
   "cell_type": "code",
   "execution_count": 13,
   "metadata": {},
   "outputs": [],
   "source": [
    "#Splitting the dataset\n",
    "from sklearn.model_selection import train_test_split\n",
    "X_train, X_test, Y_train, Y_test = train_test_split(X, Y, test_size = 0.2, random_state = 0)"
   ]
  },
  {
   "cell_type": "code",
   "execution_count": 14,
   "metadata": {},
   "outputs": [],
   "source": [
    "# Feature Scaling\n",
    "from sklearn.preprocessing import StandardScaler\n",
    "sc = StandardScaler()\n",
    "X_train = sc.fit_transform(X_train)\n",
    "X_test = sc.transform(X_test)"
   ]
  },
  {
   "cell_type": "code",
   "execution_count": 15,
   "metadata": {},
   "outputs": [
    {
     "data": {
      "text/plain": [
       "array([[ 1.0970968 , -0.32569226, -0.7737275 ,  2.23989213],\n",
       "       [-0.40639746, -0.2142472 , -0.77556195,  0.47226356],\n",
       "       [-0.25604803, -0.32569226,  1.68994262, -0.73388299],\n",
       "       ...,\n",
       "       [-0.40639746, -0.2142472 , -0.77556195,  0.96412543],\n",
       "       [-0.40639746, -0.2142472 , -0.77556195,  0.44875546],\n",
       "       [-0.25604803, -0.32569226,  1.50007676, -0.73388299]])"
      ]
     },
     "execution_count": 15,
     "metadata": {},
     "output_type": "execute_result"
    }
   ],
   "source": [
    "X_train"
   ]
  },
  {
   "cell_type": "code",
   "execution_count": 16,
   "metadata": {},
   "outputs": [
    {
     "data": {
      "text/plain": [
       "array([[-0.25604803, -0.32569226,  0.52506509, -0.73388299],\n",
       "       [-0.40639746, -0.2142472 , -0.77556195, -0.18957997],\n",
       "       [ 3.05163933, -0.32569226, -0.7737275 ,  1.94513668],\n",
       "       ...,\n",
       "       [-0.40639746, -0.2142472 , -0.77556195,  0.63953276],\n",
       "       [-0.40639746, -0.2142472 , -0.77556195,  1.80680053],\n",
       "       [-0.40639746, -0.2142472 , -0.77556195,  1.33302182]])"
      ]
     },
     "execution_count": 16,
     "metadata": {},
     "output_type": "execute_result"
    }
   ],
   "source": [
    "X_test"
   ]
  },
  {
   "cell_type": "code",
   "execution_count": 22,
   "metadata": {},
   "outputs": [
    {
     "data": {
      "text/plain": [
       "RandomForestClassifier(bootstrap=True, class_weight=None, criterion='entropy',\n",
       "                       max_depth=1, max_features='auto', max_leaf_nodes=None,\n",
       "                       min_impurity_decrease=0.0, min_impurity_split=None,\n",
       "                       min_samples_leaf=1, min_samples_split=2,\n",
       "                       min_weight_fraction_leaf=0.0, n_estimators=15,\n",
       "                       n_jobs=None, oob_score=False, random_state=0, verbose=0,\n",
       "                       warm_start=False)"
      ]
     },
     "execution_count": 22,
     "metadata": {},
     "output_type": "execute_result"
    }
   ],
   "source": [
    "# Fitting Random Forest Classification to the Training set\n",
    "from sklearn.ensemble import RandomForestClassifier\n",
    "classifier = RandomForestClassifier(n_estimators = 15 , max_depth= 1, criterion = 'entropy',  random_state = 0)\n",
    "classifier.fit(X_train, Y_train)"
   ]
  },
  {
   "cell_type": "code",
   "execution_count": 18,
   "metadata": {},
   "outputs": [
    {
     "name": "stdout",
     "output_type": "stream",
     "text": [
      "[1 0 0 ... 0 0 0]\n"
     ]
    }
   ],
   "source": [
    "y_pred = classifier.predict(X_test)\n",
    "print(y_pred)"
   ]
  },
  {
   "cell_type": "code",
   "execution_count": 23,
   "metadata": {},
   "outputs": [
    {
     "name": "stdout",
     "output_type": "stream",
     "text": [
      "Accuracy: 0.9808719091804469\n"
     ]
    }
   ],
   "source": [
    "from sklearn import metrics\n",
    "print(\"Accuracy:\",metrics.accuracy_score(Y_test, y_pred))\n"
   ]
  },
  {
   "cell_type": "code",
   "execution_count": 24,
   "metadata": {},
   "outputs": [
    {
     "data": {
      "text/plain": [
       "(0.9789767547857794, 0.9830485115766263, 0.9806407450907055, None)"
      ]
     },
     "execution_count": 24,
     "metadata": {},
     "output_type": "execute_result"
    }
   ],
   "source": [
    "from sklearn.metrics import precision_recall_fscore_support \n",
    "precision_recall_fscore_support(Y_test, y_pred, average='macro')\n"
   ]
  },
  {
   "cell_type": "code",
   "execution_count": null,
   "metadata": {},
   "outputs": [],
   "source": []
  },
  {
   "cell_type": "code",
   "execution_count": 182,
   "metadata": {},
   "outputs": [],
   "source": []
  },
  {
   "cell_type": "code",
   "execution_count": null,
   "metadata": {
    "scrolled": true
   },
   "outputs": [],
   "source": []
  },
  {
   "cell_type": "code",
   "execution_count": null,
   "metadata": {},
   "outputs": [],
   "source": []
  }
 ],
 "metadata": {
  "kernelspec": {
   "display_name": "Python 3",
   "language": "python",
   "name": "python3"
  },
  "language_info": {
   "codemirror_mode": {
    "name": "ipython",
    "version": 3
   },
   "file_extension": ".py",
   "mimetype": "text/x-python",
   "name": "python",
   "nbconvert_exporter": "python",
   "pygments_lexer": "ipython3",
   "version": "3.7.4"
  }
 },
 "nbformat": 4,
 "nbformat_minor": 2
}
